{
  "nbformat": 4,
  "nbformat_minor": 0,
  "metadata": {
    "colab": {
      "provenance": []
    },
    "kernelspec": {
      "name": "python3",
      "display_name": "Python 3"
    },
    "language_info": {
      "name": "python"
    }
  },
  "cells": [
    {
      "cell_type": "markdown",
      "source": [
        "# DATA TYPE AND STRUCTURE QUESTION"
      ],
      "metadata": {
        "id": "a20Sozj21eQl"
      }
    },
    {
      "cell_type": "markdown",
      "source": [
        "1. What are data structures, and why are they important?\n",
        "\n",
        "ANS :\n",
        "Data structures are ways to organize, store, and manage data efficiently. They are important because they enable efficient access and modification of data, which is critical for performance in algorithms and applications.\n",
        "\n",
        "2. Explain the difference between mutable and immutable data types with examples.\n",
        "\n",
        "ANS :\n",
        "Mutable: Can be changed after creation (e.g., list, dict, set).\n",
        "\n",
        "Immutable: Cannot be changed after creation (e.g., int, float, str, tuple).\n",
        "\n",
        "3. What are the main differences between lists and tuples in Python?\n",
        "\n",
        "ANS :\n",
        "List: Mutable, dynamic size, slower.\n",
        "\n",
        "Tuple: Immutable, fixed size, faster and can be used as dictionary keys.\n",
        "\n",
        "4. Describe how dictionaries store data.\n",
        "\n",
        "ANS :\n",
        "Dictionaries store data as key-value pairs using a hash table internally, allowing fast retrieval using keys.\n",
        "\n",
        "5. Why might you use a set instead of a list in Python?\n",
        "\n",
        "ANS :\n",
        "Use a set to store unique elements and when order doesn’t matter. Sets are faster for membership tests.\n",
        "\n",
        "6. What is a string in Python, and how is it different from a list?\n",
        "\n",
        "ANS :\n",
        "A string is a sequence of characters. Unlike lists, strings are immutable and contain only characters, not mixed data types.\n",
        "\n",
        "7. How do tuples ensure data integrity in Python?\n",
        "\n",
        "ANS :\n",
        "Tuples are immutable, meaning their contents cannot be changed, ensuring data remains constant.\n",
        "\n",
        "8. What is a hash table, and how does it relate to dictionaries in Python?\n",
        "\n",
        "ANS :\n",
        "A hash table is a data structure that maps keys to values using a hash function. Python dictionaries are implemented using hash tables.\n",
        "\n",
        "9. Can lists contain different data types in Python?\n",
        "\n",
        "ANS :\n",
        "Yes, Python lists are heterogeneous, allowing elements of different data types.\n",
        "\n",
        "10. Explain why strings are immutable in Python.\n",
        "\n",
        "ANS :\n",
        "Strings are immutable to ensure security, consistency, and to allow hashing for use as keys in dictionaries.\n",
        "\n",
        "11. What advantages do dictionaries offer over lists for certain tasks?\n",
        "\n",
        "ANS :\n",
        "Dictionaries offer faster lookups (O(1)) by key and better data organization through key-value pairs.\n",
        "\n",
        "12. Describe a scenario where using a tuple would be preferable over a list.\n",
        "\n",
        "ANS :\n",
        "Tuples are better when the data shouldn’t change, like coordinates (x, y) or as keys in a dictionary.\n",
        "\n",
        "13. How do sets handle duplicate values in Python?\n",
        "\n",
        "ANS :\n",
        "Sets automatically eliminate duplicates, storing only unique elements.\n",
        "\n",
        "14. How does the “in” keyword work differently for lists and dictionaries?\n",
        "\n",
        "ANS :\n",
        "List: Checks if a value exists.\n",
        "\n",
        "Dictionary: Checks if a key exists.\n",
        "\n",
        "15. Can you modify the elements of a tuple? Explain why or why not.\n",
        "\n",
        "ANS :\n",
        "No, tuples are immutable, so their elements cannot be changed after creation.\n",
        "\n",
        "16. What is a nested dictionary, and give an example of its use case?\n",
        "\n",
        "ANS :\n",
        "A nested dictionary is a dictionary within another dictionary.\n",
        "Example: students = {\"Alice\": {\"age\": 21, \"grade\": \"A\"}}\n",
        "\n",
        "17. Describe the time complexity of accessing elements in a dictionary.\n",
        "\n",
        "ANS :\n",
        "Accessing an element by key in a dictionary has an average time complexity of O(1).\n",
        "\n",
        "18. In what situations are lists preferred over dictionaries?\n",
        "\n",
        "ANS :\n",
        "Use lists when order matters, or when storing sequential data without unique keys.\n",
        "\n",
        "19. Why are dictionaries considered unordered, and how does that affect data retrieval?\n",
        "\n",
        "ANS :\n",
        "Before Python 3.7, dictionaries did not preserve insertion order. Retrieval is based on keys, not position, which can affect iteration order.\n",
        "\n",
        "20. Explain the difference between a list and a dictionary in terms of data retrieval.\n",
        "\n",
        "ANS :\n",
        "List: Access by index, slower for searching (O(n)).\n",
        "\n",
        "Dictionary: Access by key, faster (O(1)).\n",
        "\n"
      ],
      "metadata": {
        "id": "RU2-IQBD11S0"
      }
    },
    {
      "cell_type": "markdown",
      "source": [
        "# PRACTICAL QUESTION"
      ],
      "metadata": {
        "id": "QoN-6JdY24OV"
      }
    },
    {
      "cell_type": "markdown",
      "source": [
        "1. Write a code to create a string with your name and print it."
      ],
      "metadata": {
        "id": "4VSmxs694jqU"
      }
    },
    {
      "cell_type": "code",
      "source": [
        "\n",
        "name = \"Rahul Verma\"\n",
        "print(name)"
      ],
      "metadata": {
        "colab": {
          "base_uri": "https://localhost:8080/"
        },
        "id": "58kXxzXh3GiE",
        "outputId": "56be273e-ad21-4c07-968c-bded56cc1b29"
      },
      "execution_count": 30,
      "outputs": [
        {
          "output_type": "stream",
          "name": "stdout",
          "text": [
            "Rahul Verma\n"
          ]
        }
      ]
    },
    {
      "cell_type": "markdown",
      "source": [
        "2. Write a code to find the length of the string \"Hello World\"."
      ],
      "metadata": {
        "id": "WnrGM4Y_4NT8"
      }
    },
    {
      "cell_type": "code",
      "source": [
        "\n",
        "text = \"Hello World\"\n",
        "print(len(text))"
      ],
      "metadata": {
        "colab": {
          "base_uri": "https://localhost:8080/"
        },
        "id": "sLU-n0Tt3IBs",
        "outputId": "1de31b86-1eeb-494e-e5f7-6755efa15e89"
      },
      "execution_count": 29,
      "outputs": [
        {
          "output_type": "stream",
          "name": "stdout",
          "text": [
            "11\n"
          ]
        }
      ]
    },
    {
      "cell_type": "markdown",
      "source": [
        "3. Write a code to slice the first 3 characters from the string \"Python Programming\"."
      ],
      "metadata": {
        "id": "mUTivftB4N_E"
      }
    },
    {
      "cell_type": "code",
      "source": [
        "string = \"Python Programming\"\n",
        "print(string[:3])"
      ],
      "metadata": {
        "colab": {
          "base_uri": "https://localhost:8080/"
        },
        "id": "SV3EZOcw3MDW",
        "outputId": "3fd07a82-cbe5-499e-b426-e4c3cbe85208"
      },
      "execution_count": 28,
      "outputs": [
        {
          "output_type": "stream",
          "name": "stdout",
          "text": [
            "Pyt\n"
          ]
        }
      ]
    },
    {
      "cell_type": "markdown",
      "source": [
        "4. Write a code to convert the string \"hello\" to uppercase.\n",
        "\n"
      ],
      "metadata": {
        "id": "x0tS8NCu4Ofs"
      }
    },
    {
      "cell_type": "code",
      "source": [
        "s = \"hello\"\n",
        "print(s.upper())"
      ],
      "metadata": {
        "colab": {
          "base_uri": "https://localhost:8080/"
        },
        "id": "15F4I2lg3bu3",
        "outputId": "35205449-cec2-49ec-c808-8d71a59b05ab"
      },
      "execution_count": 27,
      "outputs": [
        {
          "output_type": "stream",
          "name": "stdout",
          "text": [
            "HELLO\n"
          ]
        }
      ]
    },
    {
      "cell_type": "markdown",
      "source": [
        "\n",
        "\n",
        "5. Write a code to replace the word \"apple\" with \"orange\" in the string \"I like apple\"."
      ],
      "metadata": {
        "id": "ELR-81DF4Rg8"
      }
    },
    {
      "cell_type": "code",
      "source": [
        "sentence = \"I like apple\"\n",
        "print(sentence.replace(\"apple\", \"orange\"))"
      ],
      "metadata": {
        "colab": {
          "base_uri": "https://localhost:8080/"
        },
        "id": "ba7_zoSk3brm",
        "outputId": "a88a54a1-b0ff-4dd2-fb19-4fb9fcfab240"
      },
      "execution_count": 26,
      "outputs": [
        {
          "output_type": "stream",
          "name": "stdout",
          "text": [
            "I like orange\n"
          ]
        }
      ]
    },
    {
      "cell_type": "markdown",
      "source": [
        "\n",
        "6. Write a code to create a list with numbers 1 to 5 and print it."
      ],
      "metadata": {
        "id": "KuWV70lJ4SD8"
      }
    },
    {
      "cell_type": "code",
      "source": [
        "numbers = [1, 2, 3, 4, 5]\n",
        "print(numbers)"
      ],
      "metadata": {
        "colab": {
          "base_uri": "https://localhost:8080/"
        },
        "id": "mxdU250O3bok",
        "outputId": "e4f4299b-26b1-4d88-d91b-67c6e33e79c9"
      },
      "execution_count": 25,
      "outputs": [
        {
          "output_type": "stream",
          "name": "stdout",
          "text": [
            "[1, 2, 3, 4, 5]\n"
          ]
        }
      ]
    },
    {
      "cell_type": "markdown",
      "source": [
        "7. Write a code to append the number 10 to the list [1, 2, 3, 4]."
      ],
      "metadata": {
        "id": "MhQx9EVO4SkV"
      }
    },
    {
      "cell_type": "code",
      "source": [
        "lst = [1, 2, 3, 4]\n",
        "lst.append(10)\n",
        "print(lst)"
      ],
      "metadata": {
        "colab": {
          "base_uri": "https://localhost:8080/"
        },
        "id": "P9KIAqFt3blt",
        "outputId": "942e1275-ddec-40c7-c013-0ff1726dd9e8"
      },
      "execution_count": 24,
      "outputs": [
        {
          "output_type": "stream",
          "name": "stdout",
          "text": [
            "[1, 2, 3, 4, 10]\n"
          ]
        }
      ]
    },
    {
      "cell_type": "markdown",
      "source": [
        "8. Write a code to remove the number 3 from the list [1, 2, 3, 4, 5]."
      ],
      "metadata": {
        "id": "a9g79hW74S_s"
      }
    },
    {
      "cell_type": "code",
      "source": [
        "lst = [1, 2, 3, 4, 5]\n",
        "lst.remove(3)\n",
        "print(lst)"
      ],
      "metadata": {
        "colab": {
          "base_uri": "https://localhost:8080/"
        },
        "id": "AuAYZWop3bi8",
        "outputId": "db01272e-c837-4222-f79c-ae5db712574b"
      },
      "execution_count": 23,
      "outputs": [
        {
          "output_type": "stream",
          "name": "stdout",
          "text": [
            "[1, 2, 4, 5]\n"
          ]
        }
      ]
    },
    {
      "cell_type": "markdown",
      "source": [
        "\n",
        "\n",
        "9. Write a code to access the second element in the list ['a', 'b', 'c', 'd']."
      ],
      "metadata": {
        "id": "W69n_7C54Ttc"
      }
    },
    {
      "cell_type": "code",
      "source": [
        "letters = ['a', 'b', 'c', 'd']\n",
        "print(letters[1])"
      ],
      "metadata": {
        "colab": {
          "base_uri": "https://localhost:8080/"
        },
        "id": "aTjh-sZN3bgO",
        "outputId": "ba82c01d-1563-4d46-e854-672da94848a3"
      },
      "execution_count": 22,
      "outputs": [
        {
          "output_type": "stream",
          "name": "stdout",
          "text": [
            "b\n"
          ]
        }
      ]
    },
    {
      "cell_type": "markdown",
      "source": [
        "10. Write a code to reverse the list [10, 20, 30, 40, 50]."
      ],
      "metadata": {
        "id": "4u8VQs3o4UGk"
      }
    },
    {
      "cell_type": "code",
      "source": [
        "lst = [10, 20, 30, 40, 50]\n",
        "lst.reverse()\n",
        "print(lst)"
      ],
      "metadata": {
        "colab": {
          "base_uri": "https://localhost:8080/"
        },
        "id": "QpqzyRhc3bdk",
        "outputId": "9020da9c-eddd-4cb9-84e5-dc4d228734a0"
      },
      "execution_count": 21,
      "outputs": [
        {
          "output_type": "stream",
          "name": "stdout",
          "text": [
            "[50, 40, 30, 20, 10]\n"
          ]
        }
      ]
    },
    {
      "cell_type": "markdown",
      "source": [
        "11. Tuple with 100, 200, 300\n"
      ],
      "metadata": {
        "id": "F94c3J4qb2hl"
      }
    },
    {
      "cell_type": "code",
      "source": [
        "t = (100, 200, 300)\n",
        "print(t)"
      ],
      "metadata": {
        "colab": {
          "base_uri": "https://localhost:8080/"
        },
        "id": "-Q1Di2qQ3ba8",
        "outputId": "002e5269-c311-43cf-de03-2df730fd83af"
      },
      "execution_count": 20,
      "outputs": [
        {
          "output_type": "stream",
          "name": "stdout",
          "text": [
            "(100, 200, 300)\n"
          ]
        }
      ]
    },
    {
      "cell_type": "markdown",
      "source": [
        "\n",
        "12. Second-to-last element from a tuple"
      ],
      "metadata": {
        "id": "3mycn7WNbX0-"
      }
    },
    {
      "cell_type": "code",
      "source": [
        "colors = ('red', 'green', 'blue', 'yellow')\n",
        "print(colors[-2])"
      ],
      "metadata": {
        "colab": {
          "base_uri": "https://localhost:8080/"
        },
        "id": "KAiR8l4Y3bXW",
        "outputId": "c67f612c-6f33-4516-8ef7-d725b81e84cc"
      },
      "execution_count": 19,
      "outputs": [
        {
          "output_type": "stream",
          "name": "stdout",
          "text": [
            "blue\n"
          ]
        }
      ]
    },
    {
      "cell_type": "markdown",
      "source": [
        "13. Minimum in tuple\n"
      ],
      "metadata": {
        "id": "rmnQ8uq0bZQ8"
      }
    },
    {
      "cell_type": "code",
      "source": [
        "nums = (10, 20, 5, 15)\n",
        "print(min(nums))"
      ],
      "metadata": {
        "colab": {
          "base_uri": "https://localhost:8080/"
        },
        "id": "1bOpgZlf3bQd",
        "outputId": "2f7790e0-00a4-4a18-ddf7-358592bdc55e"
      },
      "execution_count": 18,
      "outputs": [
        {
          "output_type": "stream",
          "name": "stdout",
          "text": [
            "5\n"
          ]
        }
      ]
    },
    {
      "cell_type": "markdown",
      "source": [
        "\n",
        "14. Index of \"cat\""
      ],
      "metadata": {
        "id": "rQ6E23JLbaGE"
      }
    },
    {
      "cell_type": "code",
      "source": [
        "animals = ('dog', 'cat', 'rabbit')\n",
        "print(animals.index('cat'))"
      ],
      "metadata": {
        "colab": {
          "base_uri": "https://localhost:8080/"
        },
        "id": "g3pNr2Yd6K5D",
        "outputId": "d477a7f4-226e-494f-f4b0-1c736c8ecd1b"
      },
      "execution_count": 17,
      "outputs": [
        {
          "output_type": "stream",
          "name": "stdout",
          "text": [
            "1\n"
          ]
        }
      ]
    },
    {
      "cell_type": "markdown",
      "source": [
        "15. Check if \"kiwi\" is in tuple"
      ],
      "metadata": {
        "id": "iBosq6Trbaz0"
      }
    },
    {
      "cell_type": "code",
      "source": [
        "fruits = ('apple', 'banana', 'mango')\n",
        "print('kiwi' in fruits)"
      ],
      "metadata": {
        "colab": {
          "base_uri": "https://localhost:8080/"
        },
        "id": "Wt8zg2Hd6K1s",
        "outputId": "8dc22e3e-6177-4593-aecb-0429efaaf5ec"
      },
      "execution_count": 16,
      "outputs": [
        {
          "output_type": "stream",
          "name": "stdout",
          "text": [
            "False\n"
          ]
        }
      ]
    },
    {
      "cell_type": "markdown",
      "source": [
        "16. Create set with 'a', 'b', 'c'"
      ],
      "metadata": {
        "id": "jJ-O78qgbgWV"
      }
    },
    {
      "cell_type": "code",
      "source": [
        "s = {'a', 'b', 'c'}\n",
        "print(s)"
      ],
      "metadata": {
        "colab": {
          "base_uri": "https://localhost:8080/"
        },
        "id": "OZfS2Xi96Kyl",
        "outputId": "47831015-3dae-466a-c4bb-c1cacf33a7d6"
      },
      "execution_count": 15,
      "outputs": [
        {
          "output_type": "stream",
          "name": "stdout",
          "text": [
            "{'a', 'b', 'c'}\n"
          ]
        }
      ]
    },
    {
      "cell_type": "markdown",
      "source": [
        "17. Clear all elements from a set"
      ],
      "metadata": {
        "id": "egENQHGdbg17"
      }
    },
    {
      "cell_type": "code",
      "source": [
        "s = {1, 2, 3, 4, 5}\n",
        "s.clear()\n",
        "print(s)"
      ],
      "metadata": {
        "colab": {
          "base_uri": "https://localhost:8080/"
        },
        "id": "cQI6GMsQ6Kv_",
        "outputId": "e768ec82-9c5f-4b14-e68b-cf69a105818c"
      },
      "execution_count": 14,
      "outputs": [
        {
          "output_type": "stream",
          "name": "stdout",
          "text": [
            "set()\n"
          ]
        }
      ]
    },
    {
      "cell_type": "markdown",
      "source": [
        "\n",
        "18. Remove 4 from set"
      ],
      "metadata": {
        "id": "PltA_E01biBk"
      }
    },
    {
      "cell_type": "code",
      "source": [
        "s = {1, 2, 3, 4}\n",
        "s.remove(4)\n",
        "print(s)"
      ],
      "metadata": {
        "colab": {
          "base_uri": "https://localhost:8080/"
        },
        "id": "F2I_qbsO6KtM",
        "outputId": "11dc0004-2852-4270-be64-86f98bf85ca0"
      },
      "execution_count": 13,
      "outputs": [
        {
          "output_type": "stream",
          "name": "stdout",
          "text": [
            "{1, 2, 3}\n"
          ]
        }
      ]
    },
    {
      "cell_type": "markdown",
      "source": [
        "\n",
        "19. Union of sets\n"
      ],
      "metadata": {
        "id": "Xo2hBXi4biez"
      }
    },
    {
      "cell_type": "code",
      "source": [
        "a = {1, 2, 3}\n",
        "b = {3, 4, 5}\n",
        "print(a.union(b))"
      ],
      "metadata": {
        "colab": {
          "base_uri": "https://localhost:8080/"
        },
        "id": "Uy131JUl6KqE",
        "outputId": "46ca00e7-2acf-4100-f401-110eddb862c4"
      },
      "execution_count": 12,
      "outputs": [
        {
          "output_type": "stream",
          "name": "stdout",
          "text": [
            "{1, 2, 3, 4, 5}\n"
          ]
        }
      ]
    },
    {
      "cell_type": "markdown",
      "source": [
        "20. Intersection of sets"
      ],
      "metadata": {
        "id": "CG_gyGTGbi7j"
      }
    },
    {
      "cell_type": "code",
      "source": [
        "a = {1, 2, 3}\n",
        "b = {2, 3, 4}\n",
        "print(a.intersection(b))"
      ],
      "metadata": {
        "colab": {
          "base_uri": "https://localhost:8080/"
        },
        "id": "x7-9UsS-6Kkk",
        "outputId": "446df21a-2891-4e72-bc6e-6a08e1090dd6"
      },
      "execution_count": 11,
      "outputs": [
        {
          "output_type": "stream",
          "name": "stdout",
          "text": [
            "{2, 3}\n"
          ]
        }
      ]
    },
    {
      "cell_type": "markdown",
      "source": [
        "\n",
        "21. Create dictionary and print"
      ],
      "metadata": {
        "id": "7od6qSEVbjfk"
      }
    },
    {
      "cell_type": "code",
      "source": [
        "d = {'name': 'John', 'age': 25, 'city': 'New York'}\n",
        "print(d)"
      ],
      "metadata": {
        "colab": {
          "base_uri": "https://localhost:8080/"
        },
        "id": "RBfljVpR6Khb",
        "outputId": "b4b0b729-9e41-4ef4-a727-dd014ec824dd"
      },
      "execution_count": 10,
      "outputs": [
        {
          "output_type": "stream",
          "name": "stdout",
          "text": [
            "{'name': 'John', 'age': 25, 'city': 'New York'}\n"
          ]
        }
      ]
    },
    {
      "cell_type": "markdown",
      "source": [
        "\n",
        "22. Add key-value pair to dictionary\n"
      ],
      "metadata": {
        "id": "A7KfIV2Tbj6s"
      }
    },
    {
      "cell_type": "code",
      "source": [
        "d = {'name': 'John', 'age': 25, 'city': 'New York'}\n",
        "d['country'] = 'USA'\n",
        "print(d)"
      ],
      "metadata": {
        "colab": {
          "base_uri": "https://localhost:8080/"
        },
        "id": "p8Wvq-EL6Kek",
        "outputId": "cdd174ae-1b34-42de-c26b-122ed909c0f5"
      },
      "execution_count": 9,
      "outputs": [
        {
          "output_type": "stream",
          "name": "stdout",
          "text": [
            "{'name': 'John', 'age': 25, 'city': 'New York', 'country': 'USA'}\n"
          ]
        }
      ]
    },
    {
      "cell_type": "markdown",
      "source": [
        "\n",
        "23. Access value by key"
      ],
      "metadata": {
        "id": "5sBIM9OjbkXU"
      }
    },
    {
      "cell_type": "code",
      "source": [
        "d = {'name': 'Alice', 'age': 30}\n",
        "print(d['name'])"
      ],
      "metadata": {
        "colab": {
          "base_uri": "https://localhost:8080/"
        },
        "id": "i0rG6XAd6Kbf",
        "outputId": "b786a919-adea-46af-aba5-1c745024eb88"
      },
      "execution_count": 8,
      "outputs": [
        {
          "output_type": "stream",
          "name": "stdout",
          "text": [
            "Alice\n"
          ]
        }
      ]
    },
    {
      "cell_type": "markdown",
      "source": [
        "24. Remove key \"age\""
      ],
      "metadata": {
        "id": "k3RRHih3bk30"
      }
    },
    {
      "cell_type": "code",
      "source": [
        "\n",
        "d = {'name': 'Bob', 'age': 22, 'city': 'New York'}\n",
        "d.pop('age')\n",
        "print(d)"
      ],
      "metadata": {
        "colab": {
          "base_uri": "https://localhost:8080/"
        },
        "id": "-VIqMLQf6KYs",
        "outputId": "e39c9a00-81c8-4eeb-db8e-270af4e4e5b9"
      },
      "execution_count": 7,
      "outputs": [
        {
          "output_type": "stream",
          "name": "stdout",
          "text": [
            "{'name': 'Bob', 'city': 'New York'}\n"
          ]
        }
      ]
    },
    {
      "cell_type": "markdown",
      "source": [
        "25. Write a code to check if the key \"city\" exists in the dictionary"
      ],
      "metadata": {
        "id": "D0ZMi2lBblVb"
      }
    },
    {
      "cell_type": "code",
      "source": [
        "d = {'name': 'Alice', 'city': 'Paris'}\n",
        "print('city' in d)"
      ],
      "metadata": {
        "colab": {
          "base_uri": "https://localhost:8080/"
        },
        "id": "HA8ETsSZ6KVv",
        "outputId": "ce0443e2-9711-4007-c8e5-14889e594d4c"
      },
      "execution_count": 6,
      "outputs": [
        {
          "output_type": "stream",
          "name": "stdout",
          "text": [
            "True\n"
          ]
        }
      ]
    },
    {
      "cell_type": "markdown",
      "source": [
        "\n",
        "26. Create list, tuple, and dictionary"
      ],
      "metadata": {
        "id": "1G56SbiOblyU"
      }
    },
    {
      "cell_type": "code",
      "source": [
        "my_list = [1, 2, 3]\n",
        "my_tuple = (4, 5, 6)\n",
        "my_dict = {'a': 1, 'b': 2}\n",
        "print(my_list, my_tuple, my_dict)"
      ],
      "metadata": {
        "colab": {
          "base_uri": "https://localhost:8080/"
        },
        "id": "S_74Grj36KSl",
        "outputId": "1a453680-3c9c-4fe8-dc58-9984db136225"
      },
      "execution_count": 5,
      "outputs": [
        {
          "output_type": "stream",
          "name": "stdout",
          "text": [
            "[1, 2, 3] (4, 5, 6) {'a': 1, 'b': 2}\n"
          ]
        }
      ]
    },
    {
      "cell_type": "markdown",
      "source": [
        "27. 5 random numbers sorted\n"
      ],
      "metadata": {
        "id": "mRQ1wRZobmV8"
      }
    },
    {
      "cell_type": "code",
      "source": [
        "import random\n",
        "nums = random.sample(range(1, 101), 5)\n",
        "nums.sort()\n",
        "print(nums)"
      ],
      "metadata": {
        "colab": {
          "base_uri": "https://localhost:8080/"
        },
        "id": "kib2JCXC6KP0",
        "outputId": "a86d0d22-1ce3-483b-dbeb-a22d1559c8dd"
      },
      "execution_count": 4,
      "outputs": [
        {
          "output_type": "stream",
          "name": "stdout",
          "text": [
            "[9, 23, 47, 81, 96]\n"
          ]
        }
      ]
    },
    {
      "cell_type": "markdown",
      "source": [
        "28. List with strings and print third"
      ],
      "metadata": {
        "id": "4rh-rvZWbmyU"
      }
    },
    {
      "cell_type": "code",
      "source": [
        "words = ['apple', 'banana', 'cherry', 'date']\n",
        "print(words[2])"
      ],
      "metadata": {
        "colab": {
          "base_uri": "https://localhost:8080/"
        },
        "id": "omI9a7JI6KMb",
        "outputId": "238d7aa4-2ba2-4249-c264-43d3ba481b9d"
      },
      "execution_count": 3,
      "outputs": [
        {
          "output_type": "stream",
          "name": "stdout",
          "text": [
            "cherry\n"
          ]
        }
      ]
    },
    {
      "cell_type": "markdown",
      "source": [
        "29. Combine two dictionaries\n"
      ],
      "metadata": {
        "id": "MWH6dkXXbnZ9"
      }
    },
    {
      "cell_type": "code",
      "source": [
        "d1 = {'a': 1, 'b': 2}\n",
        "d2 = {'c': 3, 'd': 4}\n",
        "d1.update(d2)\n",
        "print(d1)"
      ],
      "metadata": {
        "colab": {
          "base_uri": "https://localhost:8080/"
        },
        "id": "960S_SWl6KJl",
        "outputId": "46ea065b-5676-4803-bf97-6a8216340cd9"
      },
      "execution_count": 2,
      "outputs": [
        {
          "output_type": "stream",
          "name": "stdout",
          "text": [
            "{'a': 1, 'b': 2, 'c': 3, 'd': 4}\n"
          ]
        }
      ]
    },
    {
      "cell_type": "markdown",
      "source": [
        "\n",
        "30. Convert list of strings to set"
      ],
      "metadata": {
        "id": "8tkTxmiybnzE"
      }
    },
    {
      "cell_type": "code",
      "source": [
        "\n",
        "lst = ['apple', 'banana', 'cherry', 'apple']\n",
        "s = set(lst)\n",
        "print(s)\n"
      ],
      "metadata": {
        "colab": {
          "base_uri": "https://localhost:8080/"
        },
        "id": "BGTHr3aa6KGr",
        "outputId": "8c8655b0-de0c-415e-93eb-1d9765710e30"
      },
      "execution_count": 1,
      "outputs": [
        {
          "output_type": "stream",
          "name": "stdout",
          "text": [
            "{'apple', 'cherry', 'banana'}\n"
          ]
        }
      ]
    },
    {
      "cell_type": "markdown",
      "source": [],
      "metadata": {
        "id": "eRsWRcIcboT8"
      }
    }
  ]
}